{
 "cells": [
  {
   "cell_type": "code",
   "execution_count": 2,
   "metadata": {},
   "outputs": [],
   "source": [
    "import numpy as np"
   ]
  },
  {
   "cell_type": "markdown",
   "metadata": {},
   "source": [
    "## Gauss-Seidel method\n",
    "\n",
    "Let $A*x =b$ and $ A=D+L+U$, where D,L,U are, respectively, the Diagonal, strictly lower triangular and  strictly upper triangular parts of A.\n",
    "</br>\n",
    "The (k+1) order Gauss-Seidel aproximation is defined as:\n",
    "$$ x^{(k+1)}=(D+L)^{-1}*(b-Ux^{(k)})$$\n",
    "where $x^{(0)}$ is a user chosen aproximation, $x^{(k)}$ will tend to the solution with each iteration\n",
    "\n",
    "\n",
    "</br> Which can be computed as:\n",
    "$$x^{(k+1)}_i=\\frac{1}{a_{ii}}(b_i-\\sum_{j=1}^{i-1}a_{ij}x_j^{(k+1)}-\\sum_{j=i+1}^{n}a_{ij}x_j^{(k)} )$$"
   ]
  },
  {
   "cell_type": "code",
   "execution_count": 3,
   "metadata": {},
   "outputs": [
    {
     "name": "stdout",
     "output_type": "stream",
     "text": [
      "x1:[1.   0.25 0.25]\n",
      "x2:[0.9167 0.1458 0.3542]\n",
      "x3:[0.9514 0.0851 0.4149]\n",
      "x4:[0.9716 0.0496 0.4504]\n",
      "x5:[0.9835 0.0289 0.4711]\n",
      "x6:[0.9904 0.0169 0.4831]\n",
      "x7:[0.9944 0.0099 0.4901]\n",
      "x8:[0.9967 0.0057 0.4943]\n",
      "x9:[0.9981 0.0034 0.4966]\n",
      "x10:[0.9989 0.002  0.498 ]\n",
      "x11:[0.9993 0.0011 0.4989]\n",
      "x12:[0.9996 0.0007 0.4993]\n",
      "x13:[0.9998 0.0004 0.4996]\n",
      "x14:[0.9999 0.0002 0.4998]\n",
      "x15:[0.9999 0.0001 0.4999]\n",
      "x16:[1.     0.0001 0.4999]\n",
      "x17:[1.  0.  0.5]\n",
      "x18:[1.  0.  0.5]\n",
      "x19:[1.  0.  0.5]\n",
      "x20:[1.  0.  0.5]\n"
     ]
    },
    {
     "data": {
      "text/plain": [
       "array([1. , 0. , 0.5])"
      ]
     },
     "execution_count": 3,
     "metadata": {},
     "output_type": "execute_result"
    }
   ],
   "source": [
    "# Gauss-Seidel \n",
    "\n",
    "np.set_printoptions(precision=4, suppress=True)\n",
    "def gs(a,b,p,x0):\n",
    "    x=x0\n",
    "    xn=np.array([])\n",
    "    n=len(x0)\n",
    "    #repet for p iterations\n",
    "    for z in range(p):\n",
    "        for i in range (n):\n",
    "            s=0\n",
    "            for j in range (n):\n",
    "                if j<i:\n",
    "                    s+=np.dot(a[i,j],xn[j])\n",
    "                if j>i:\n",
    "                    s+=np.dot(a[i,j],x[j])\n",
    "            xn=np.append(xn,(1/a[i,i])*(b[i]-s))\n",
    "        v=z+1\n",
    "        print(\"x\"+str(v)+\":\"+str(xn))\n",
    "        x=xn\n",
    "        xn=np.array([])\n",
    "    return x\n",
    "\n",
    "\n",
    "#exemplo\n",
    "m=np.array([[3,1,0],[1,4,2],[0,2,2]])\n",
    "b=np.array([3,2,1])\n",
    "x0=([0,0,0])\n",
    "gs(m,b,20,x0)\n",
    "\n",
    "            "
   ]
  },
  {
   "cell_type": "code",
   "execution_count": null,
   "metadata": {},
   "outputs": [],
   "source": []
  }
 ],
 "metadata": {
  "kernelspec": {
   "display_name": "Python [default]",
   "language": "python",
   "name": "python3"
  },
  "language_info": {
   "codemirror_mode": {
    "name": "ipython",
    "version": 3
   },
   "file_extension": ".py",
   "mimetype": "text/x-python",
   "name": "python",
   "nbconvert_exporter": "python",
   "pygments_lexer": "ipython3",
   "version": "3.6.6"
  },
  "varInspector": {
   "cols": {
    "lenName": 16,
    "lenType": 16,
    "lenVar": 40
   },
   "kernels_config": {
    "python": {
     "delete_cmd_postfix": "",
     "delete_cmd_prefix": "del ",
     "library": "var_list.py",
     "varRefreshCmd": "print(var_dic_list())"
    },
    "r": {
     "delete_cmd_postfix": ") ",
     "delete_cmd_prefix": "rm(",
     "library": "var_list.r",
     "varRefreshCmd": "cat(var_dic_list()) "
    }
   },
   "types_to_exclude": [
    "module",
    "function",
    "builtin_function_or_method",
    "instance",
    "_Feature"
   ],
   "window_display": false
  }
 },
 "nbformat": 4,
 "nbformat_minor": 2
}
