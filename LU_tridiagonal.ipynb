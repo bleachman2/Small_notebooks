{
 "cells": [
  {
   "cell_type": "code",
   "execution_count": 10,
   "metadata": {},
   "outputs": [],
   "source": [
    "import numpy as np"
   ]
  },
  {
   "cell_type": "markdown",
   "metadata": {},
   "source": [
    "# LU decomposition for tridiagonal matrixes\n",
    "<br>\n",
    "If we have a Matrix With the form:\n",
    "\n",
    "$$ \\begin{bmatrix} b_1&c_1&0&\\dots&\\dots&\\\\\n",
    "a_2&b_2&c_2&0&\\dots&\\\\\n",
    "0&\\ddots&\\ddots&\\ddots&0&\\\\\n",
    "&0&\\ddots&\\ddots&\\ddots&0\\\\\n",
    "&&0&a_{n-1}&b_{n-1}&c_{n-1}\\\\\n",
    "&&&0&a_n&b_n\\\\\n",
    "\\end{bmatrix}$$\n",
    "\n",
    "<br> It can be decomposed in two matrixes (M= L*U):\n",
    "$$ \\begin{bmatrix} 1&0&0&\\dots&\\dots&\\\\\n",
    "l_2&1&0&0&\\dots&\\\\\n",
    "0&\\ddots&\\ddots&\\ddots&0&\\\\\n",
    "&0&\\ddots&\\ddots&\\ddots&0\\\\\n",
    "&&0&l_{n-1}&1&0\\\\\n",
    "&&&0&l_n&1\\\\\n",
    "\\end{bmatrix}\n",
    "\\begin{bmatrix} v_1&c_1&0&\\dots&\\dots&\\\\\n",
    "0&v_2&c_2&0&\\dots&\\\\\n",
    "0&\\ddots&\\ddots&\\ddots&0&\\\\\n",
    "&0&\\ddots&\\ddots&\\ddots&0\\\\\n",
    "&&0&0&v_{n-1}&c_{n-1}\\\\\n",
    "&&&0&0&v_n\\\\\n",
    "\\end{bmatrix}$$\n",
    "\n",
    "where:\n",
    "$$ b_1=v_1 \\Longrightarrow v_1=b_1$$\n",
    "$$a_k=l_kv_{k-1}\\Longrightarrow l_k=\\frac{a_k}{v_{k-1}}$$\n",
    "$$b_k=l_kc_{k-1}+v{k}\\Longrightarrow v_k=b_k-l_kc{k-1}$$\n",
    "$$k=2,.....,n$$\n",
    "\n"
   ]
  },
  {
   "cell_type": "code",
   "execution_count": 11,
   "metadata": {},
   "outputs": [],
   "source": [
    "# entry data\n",
    "lowerDIAG=[1,2,3]\n",
    "upperDIAG=[3,2,4]\n",
    "mainDIAG=4\n",
    "b=[1,2,3,4]"
   ]
  },
  {
   "cell_type": "code",
   "execution_count": 12,
   "metadata": {},
   "outputs": [
    {
     "name": "stdout",
     "output_type": "stream",
     "text": [
      "matrix L: \n",
      "\n",
      "[[ 1.  0.  0.  0.]\n",
      " [ 1.  1.  0.  0.]\n",
      " [ 0. -1.  1.  0.]\n",
      " [ 0.  0.  1.  1.]]\n",
      "\n",
      " matrix U: \n",
      "\n",
      "[[ 1.  3.  0.  0.]\n",
      " [ 0. -2.  2.  0.]\n",
      " [ 0.  0.  3.  4.]\n",
      " [ 0.  0.  0. -3.]]\n"
     ]
    }
   ],
   "source": [
    "# LU factorization for tridiagonal matrix\n",
    "\n",
    "def LUt(m):\n",
    "\n",
    "    #extract the 3 diagonals of the matriz in 3 vectors\n",
    "    #b=center diagonal|a=lower diagonal|c=uper diagonal\n",
    "    b=np.diag(m)\n",
    "    a=np.diag(m,k=-1)\n",
    "    c=np.diag(m,k=1)\n",
    "    #Creation of LU matrixes diagonals\n",
    "    v=np.array([b[0]])\n",
    "    l=np.array([])\n",
    "    for i in range (1,len(b)):\n",
    "        l=np.append(l,a[i-1]/v[i-1])\n",
    "        v=np.append(v,b[i]-np.dot(l[i-1],c[i-1]))\n",
    "        \n",
    "    #\"mounting\" the diagonals into the LU matrixes\n",
    "    L=np.identity(len(m))+np.diag(l,k=-1)\n",
    "    U=np.diag(v)+np.diag(c,k=1)\n",
    "    \n",
    "    return L,U\n",
    "\n",
    "      \n",
    "\n",
    "m=np.identity(mainDIAG)+np.diag(lowerDIAG,k=-1)+np.diag(upperDIAG,k=1)\n",
    "L,U=LUt(m)\n",
    "print(\"matrix L: \\n\")\n",
    "print(L)\n",
    "print(\"\\n matrix U: \\n\")\n",
    "print(U)\n"
   ]
  },
  {
   "cell_type": "markdown",
   "metadata": {},
   "source": [
    "# Solving a Matrix equation Mx=b"
   ]
  },
  {
   "cell_type": "code",
   "execution_count": 13,
   "metadata": {},
   "outputs": [
    {
     "name": "stdout",
     "output_type": "stream",
     "text": [
      "\n",
      "Solucion:\n",
      "[-1.5    0.833  1.333 -0.   ]\n"
     ]
    }
   ],
   "source": [
    "def LUsolver(L,U,b):\n",
    "    #  LUx=b ->Ly=b->Ux=y\n",
    "    #Find y\n",
    "    y=np.zeros(len(b))\n",
    "    x=np.zeros(len(b))\n",
    "    y[0]=b[0]\n",
    "    for i in range(1,len(L)):\n",
    "        y[i]=b[i]\n",
    "        for j in range(i):\n",
    "            y[i]-= np.dot(y[j],L[i,j])\n",
    "    \n",
    "    #Find x    \n",
    "    for i in range(len(U)-1,-1,-1):\n",
    "        x[i]=y[i]\n",
    "        for j in range(i+1,len(U)):\n",
    "            x[i]-=np.dot(x[j],U[i,j])\n",
    "        x[i]/=U[i,i]\n",
    "    \n",
    "    return x\n",
    "\n",
    "\n",
    "res=LUsolver(L,U,b)\n",
    "np.set_printoptions(precision=3)\n",
    "print(\"\\nSolucion:\")\n",
    "print(res)"
   ]
  },
  {
   "cell_type": "code",
   "execution_count": null,
   "metadata": {},
   "outputs": [],
   "source": []
  }
 ],
 "metadata": {
  "kernelspec": {
   "display_name": "Python 3",
   "language": "python",
   "name": "python3"
  },
  "language_info": {
   "codemirror_mode": {
    "name": "ipython",
    "version": 3
   },
   "file_extension": ".py",
   "mimetype": "text/x-python",
   "name": "python",
   "nbconvert_exporter": "python",
   "pygments_lexer": "ipython3",
   "version": "3.6.6"
  }
 },
 "nbformat": 4,
 "nbformat_minor": 2
}
