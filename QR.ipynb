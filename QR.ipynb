{
 "cells": [
  {
   "cell_type": "code",
   "execution_count": 4,
   "metadata": {},
   "outputs": [],
   "source": [
    "import numpy as np\n",
    "a=np.array([[1,2,0,3],[2,5,6,0],[0,6,9,5],[3,0,5,1]])"
   ]
  },
  {
   "cell_type": "code",
   "execution_count": 5,
   "metadata": {},
   "outputs": [
    {
     "name": "stdout",
     "output_type": "stream",
     "text": [
      "Q:\n",
      "[[ 0.2673  0.1545 -0.6785  0.6666]\n",
      " [ 0.5345  0.4442 -0.3206 -0.6436]\n",
      " [ 0.      0.8111  0.4933  0.3141]\n",
      " [ 0.8018 -0.3476  0.4399  0.2069]]\n",
      "\n",
      "R:\n",
      "[[3.7417 3.2071 7.2161 1.6036]\n",
      " [0.     7.3969 8.2274 4.1716]\n",
      " [0.     0.     4.7158 0.8709]\n",
      " [0.     0.     0.     3.7773]]\n",
      "\n",
      "Q*R:\n",
      "[[ 1.  2.  0.  3.]\n",
      " [ 2.  5.  6.  0.]\n",
      " [ 0.  6.  9.  5.]\n",
      " [ 3. -0.  5.  1.]]\n"
     ]
    }
   ],
   "source": [
    "def QR(m):\n",
    "    # QR factorization with Gram-Schmidt\n",
    "    R=.0*m\n",
    "    #create function Q\n",
    "    for i in range (len(m)):\n",
    "        a=m[:,i]\n",
    "        u=a\n",
    "        if i==0:\n",
    "            e=u/np.sqrt(np.dot(u,u))\n",
    "            Q=np.vstack(e)\n",
    "        else:            \n",
    "            for j in np.transpose(Q):\n",
    "                u=u-np.dot(a,j)*j\n",
    "            e=u/np.sqrt(np.dot(u,u))\n",
    "            Q=np.column_stack((Q,e))\n",
    "    \n",
    "    # create R\n",
    "    for k in range( len(np.transpose(Q))):\n",
    "        for z in range(k,len(np.transpose(m))):\n",
    "            R[k,z]=np.dot(m[:,z],Q[:,k])\n",
    "\n",
    "                      \n",
    "    return Q,R\n",
    "                \n",
    "                \n",
    "\n",
    "\n",
    "#print(np.linalg.qr(a))\n",
    "q,r=QR(a)\n",
    "print(\"Q:\")\n",
    "print(q)\n",
    "print(\"\\nR:\")\n",
    "print(r)\n",
    "print(\"\\nQ*R:\")\n",
    "print(np.dot(q,r))"
   ]
  },
  {
   "cell_type": "markdown",
   "metadata": {},
   "source": [
    "Let $ M_0=Q_0R_0$ <br/> A matrix with the form: $M_1=R_0Q_0$ will slowlly tend to a diagonalized matriz with the same eigenvalues as $M_0$<br/>\n",
    "As such,  we can repeat the process iteratively:\n",
    "$$ M_i=R_{i-1}Q_{i-1}$$\n",
    "\n",
    "\n",
    "In convergent cases: \n",
    "$$ \\left\\{\\begin{array}{l}i\\rightarrow+\\infty \\\\M_i \\rightarrow diagonalized-eigenvalue-matrix \\end{array}\\right. $$\n",
    "\n",
    "\n",
    "In the same iteration, let Vec be the eigenvector matrix:\n",
    "$$ Vec= \\Pi_{j=0}^{i-1}Q_j$$\n"
   ]
  },
  {
   "cell_type": "code",
   "execution_count": 6,
   "metadata": {},
   "outputs": [
    {
     "name": "stdout",
     "output_type": "stream",
     "text": [
      "\n",
      "EIGENVALUES:\n",
      "[14.8648 -4.4049  3.1494  2.3907]\n",
      "\n",
      "EIGENVECTORS:\n",
      "[[ 0.1415 -0.5044  0.3418  0.7802]\n",
      " [ 0.5084  0.3706 -0.647   0.4308]\n",
      " [ 0.7888 -0.4127  0.0856 -0.4474]\n",
      " [ 0.3151  0.6618  0.6762  0.0745]]\n"
     ]
    }
   ],
   "source": [
    "def QRalg(m,p):\n",
    "    vec=0\n",
    "    a=m\n",
    "    for i in range (p):\n",
    "        q,r=QR(a)\n",
    "        #a -> matrix that converges to diagonal with each iteration\n",
    "        a=np.dot(r,q)\n",
    "        #vec -> matrix that converges to eigenvector matrix (eigenvector=column) with each iteration\n",
    "        if isinstance(vec, int):\n",
    "            vec=q\n",
    "        else:\n",
    "            vec=np.dot(vec,q)\n",
    "    return(np.diag(a),vec)\n",
    "np.set_printoptions(precision=4,suppress=True)\n",
    "val,vec=QRalg(a,100)\n",
    "print(\"\\nEIGENVALUES:\")\n",
    "print(val)\n",
    "print(\"\\nEIGENVECTORS:\")\n",
    "print(vec)\n",
    "\n",
    "#Verificação\n",
    "#np.linalg.eig(a)\n",
    "    "
   ]
  },
  {
   "cell_type": "code",
   "execution_count": null,
   "metadata": {},
   "outputs": [],
   "source": []
  }
 ],
 "metadata": {
  "kernelspec": {
   "display_name": "Python [default]",
   "language": "python",
   "name": "python3"
  },
  "language_info": {
   "codemirror_mode": {
    "name": "ipython",
    "version": 3
   },
   "file_extension": ".py",
   "mimetype": "text/x-python",
   "name": "python",
   "nbconvert_exporter": "python",
   "pygments_lexer": "ipython3",
   "version": "3.6.6"
  },
  "varInspector": {
   "cols": {
    "lenName": 16,
    "lenType": 16,
    "lenVar": 40
   },
   "kernels_config": {
    "python": {
     "delete_cmd_postfix": "",
     "delete_cmd_prefix": "del ",
     "library": "var_list.py",
     "varRefreshCmd": "print(var_dic_list())"
    },
    "r": {
     "delete_cmd_postfix": ") ",
     "delete_cmd_prefix": "rm(",
     "library": "var_list.r",
     "varRefreshCmd": "cat(var_dic_list()) "
    }
   },
   "types_to_exclude": [
    "module",
    "function",
    "builtin_function_or_method",
    "instance",
    "_Feature"
   ],
   "window_display": false
  }
 },
 "nbformat": 4,
 "nbformat_minor": 2
}
